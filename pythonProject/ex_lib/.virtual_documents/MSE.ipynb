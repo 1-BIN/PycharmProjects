# 대표적인 loss function : Mean_Squared_Error
# 손실 구하기

import matplotlib.pyplot as plt
import numpy as np

x = [2, 4, 6, 8]      #공부한 시간
y = [81, 93, 91, 97]  # 성적
# x 독립변수, y 종속변수
plt.figure(figsize=(8, 5))
plt.scatter(x, y) #산점도
plt.show()

ab = [2.3, 76]   #가상의 기울기 a, y절편 b


# MSE 함수: 평균 제곱 오차
def mse(y, y_hat):  
    return ((y - y_hat) ** 2).mean() #실제값-예측값 의 평균값을 구해 리턴
# 예측 함수
def predict(x):
    return ab[0] * x + ab[1]
# 총 오차
def mse_val(y, result):
    return mse(np.array(y), np.array(result))

arr = []
for i in range(len(x)):
    arr.append(predict(x[i]))
    print(f"공부시간 {x[i]}, 실제점수 {y[i]}, 예측점수 {predict(x[i])}")
# 최종 MSE
print("총 오차:", str(mse_val(arr, y)))



