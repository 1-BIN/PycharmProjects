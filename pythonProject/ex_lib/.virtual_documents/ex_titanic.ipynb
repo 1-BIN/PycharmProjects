








import pandas as pd
import matplotlib.pyplot as plt
import seaborn as sns
import os

train = pd.read_csv('./datasets/titanic/train.csv', index_col='PassengerId')
train.shape # 데이터의 행열 수 출력


train.head()





train.info()





# 결측치 체크 : 결측치는 이상값을 의미합니다. 평균적인 범주를 벗어난 값이나 null값..
train.isnull().sum()


#성별 별 나이 평균.
gender_mean = train.groupby('Sex')['Age'].mean()
gender_mean





# 남자 평균, 여자 평균 나이로 채우기
train.loc[(train['Sex'] == 'female') & (train['Age'].isnull()), 'Age'] = int(gender_mean[0])
train.loc[(train['Sex'] == 'male') & (train['Age'].isnull()), 'Age'] = int(gender_mean[1])
train.isnull().sum() #이제 나이에 결측치가 나오지 않습니다.


train.Cabin.value_counts()


train['Cabin'] = train['Cabin'].fillna('N')
train.isnull().sum() #Cabin이 모두 'N'으로 채워지며 결측치가 없어집니다.


train = train.dropna() #결측치 포함된 행 자체를 제거합니다.
train.isnull().sum()


### 생존자, 사망자 인원 수 출력
train['Survived'].value_counts()


# 가시성을 위해 라벨 컬럼 생성
train['Survived_label'] = train['Survived'].replace(0, 'Dead').replace(1, 'Survived')
train['Survived_label'].value_counts()


# 그래프 시각화
train['Survived_label'].value_counts().plot(kind='bar', rot='vertical')


train['Survived_label'].value_counts().plot(kind='pie', autopct='%1.2f%%')
# autopct: 수치 소수점 자리 수 정하기


# 객실 시각화
train['Pclass_label'] = train['Pclass'].replace(1, 'First Class').replace(2, 'Business').replace(3, 'Economy')
train['Pclass_label'].value_counts().plot(kind='pie', autopct='%1.2f%%')


#객식 별 생존 여부 시각화
sns.countplot(data=train, x="Pclass_label", hue="Survived_label")


# 성별 생존 여부
sns.countplot(data=train, x="Sex", hue="Survived_label")


# 나이 별 생존 여부
f = sns.FacetGrid(train, hue="Survived_label", aspect=3)
f.map(sns.kdeplot, 'Age', fill=True)
f.set(xlim=(0, train['Age'].max()))
f.add_legend()



