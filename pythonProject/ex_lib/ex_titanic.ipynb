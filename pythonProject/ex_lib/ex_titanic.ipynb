{
 "cells": [
  {
   "cell_type": "markdown",
   "id": "bbcc58f3-819e-41c9-ac8c-62f55b5d9950",
   "metadata": {},
   "source": [
    "## 탐색적 데이터 분석(EDA, Explotory Data Analysis)\n",
    "- 데이터의 주요 특성을 파악하고, 패턴을 찾고, 이상값을 식별하며 가설을 세우기 위한 일련의 방법입니다.\n",
    "- 데이터 분석 초기 단계에 수행되며, 데이터를 시각화하고 통계적으로 요약합니다.\n",
    "  1. 데이터의 분포와 패턴 파악\n",
    "  2. 이상값 탐지\n",
    "  3. 변수 간 관계 확인\n",
    "  4. 데이터의 통계적 요약"
   ]
  },
  {
   "cell_type": "code",
   "execution_count": null,
   "id": "4310bb51-b9a4-499a-9590-92acb59392ae",
   "metadata": {},
   "outputs": [],
   "source": []
  },
  {
   "cell_type": "markdown",
   "id": "28b1b587-100a-4bc3-aab6-44d9848f389d",
   "metadata": {},
   "source": [
    "#### 데이터 읽어오기"
   ]
  },
  {
   "cell_type": "code",
   "execution_count": 11,
   "id": "c3e744e3-24bb-4db5-b19a-403a1870719b",
   "metadata": {},
   "outputs": [
    {
     "data": {
      "text/plain": [
       "(891, 11)"
      ]
     },
     "execution_count": 11,
     "metadata": {},
     "output_type": "execute_result"
    }
   ],
   "source": [
    "import pandas as pd\n",
    "import matplotlib.pyplot as plt\n",
    "import seaborn as sns\n",
    "import os\n",
    "\n",
    "train = pd.read_csv('./datasets/titanic/train.csv', index_col='PassengerId')\n",
    "train.shape # 데이터의 행열 수 출력"
   ]
  },
  {
   "cell_type": "code",
   "execution_count": 13,
   "id": "35bc7f9f-68fd-4f1f-a265-a11ba7359265",
   "metadata": {
    "collapsed": true,
    "jupyter": {
     "outputs_hidden": true
    },
    "scrolled": true
   },
   "outputs": [
    {
     "data": {
      "text/html": [
       "<div>\n",
       "<style scoped>\n",
       "    .dataframe tbody tr th:only-of-type {\n",
       "        vertical-align: middle;\n",
       "    }\n",
       "\n",
       "    .dataframe tbody tr th {\n",
       "        vertical-align: top;\n",
       "    }\n",
       "\n",
       "    .dataframe thead th {\n",
       "        text-align: right;\n",
       "    }\n",
       "</style>\n",
       "<table border=\"1\" class=\"dataframe\">\n",
       "  <thead>\n",
       "    <tr style=\"text-align: right;\">\n",
       "      <th></th>\n",
       "      <th>Survived</th>\n",
       "      <th>Pclass</th>\n",
       "      <th>Name</th>\n",
       "      <th>Sex</th>\n",
       "      <th>Age</th>\n",
       "      <th>SibSp</th>\n",
       "      <th>Parch</th>\n",
       "      <th>Ticket</th>\n",
       "      <th>Fare</th>\n",
       "      <th>Cabin</th>\n",
       "      <th>Embarked</th>\n",
       "    </tr>\n",
       "    <tr>\n",
       "      <th>PassengerId</th>\n",
       "      <th></th>\n",
       "      <th></th>\n",
       "      <th></th>\n",
       "      <th></th>\n",
       "      <th></th>\n",
       "      <th></th>\n",
       "      <th></th>\n",
       "      <th></th>\n",
       "      <th></th>\n",
       "      <th></th>\n",
       "      <th></th>\n",
       "    </tr>\n",
       "  </thead>\n",
       "  <tbody>\n",
       "    <tr>\n",
       "      <th>1</th>\n",
       "      <td>0</td>\n",
       "      <td>3</td>\n",
       "      <td>Braund, Mr. Owen Harris</td>\n",
       "      <td>male</td>\n",
       "      <td>22.0</td>\n",
       "      <td>1</td>\n",
       "      <td>0</td>\n",
       "      <td>A/5 21171</td>\n",
       "      <td>7.2500</td>\n",
       "      <td>NaN</td>\n",
       "      <td>S</td>\n",
       "    </tr>\n",
       "    <tr>\n",
       "      <th>2</th>\n",
       "      <td>1</td>\n",
       "      <td>1</td>\n",
       "      <td>Cumings, Mrs. John Bradley (Florence Briggs Th...</td>\n",
       "      <td>female</td>\n",
       "      <td>38.0</td>\n",
       "      <td>1</td>\n",
       "      <td>0</td>\n",
       "      <td>PC 17599</td>\n",
       "      <td>71.2833</td>\n",
       "      <td>C85</td>\n",
       "      <td>C</td>\n",
       "    </tr>\n",
       "    <tr>\n",
       "      <th>3</th>\n",
       "      <td>1</td>\n",
       "      <td>3</td>\n",
       "      <td>Heikkinen, Miss. Laina</td>\n",
       "      <td>female</td>\n",
       "      <td>26.0</td>\n",
       "      <td>0</td>\n",
       "      <td>0</td>\n",
       "      <td>STON/O2. 3101282</td>\n",
       "      <td>7.9250</td>\n",
       "      <td>NaN</td>\n",
       "      <td>S</td>\n",
       "    </tr>\n",
       "    <tr>\n",
       "      <th>4</th>\n",
       "      <td>1</td>\n",
       "      <td>1</td>\n",
       "      <td>Futrelle, Mrs. Jacques Heath (Lily May Peel)</td>\n",
       "      <td>female</td>\n",
       "      <td>35.0</td>\n",
       "      <td>1</td>\n",
       "      <td>0</td>\n",
       "      <td>113803</td>\n",
       "      <td>53.1000</td>\n",
       "      <td>C123</td>\n",
       "      <td>S</td>\n",
       "    </tr>\n",
       "    <tr>\n",
       "      <th>5</th>\n",
       "      <td>0</td>\n",
       "      <td>3</td>\n",
       "      <td>Allen, Mr. William Henry</td>\n",
       "      <td>male</td>\n",
       "      <td>35.0</td>\n",
       "      <td>0</td>\n",
       "      <td>0</td>\n",
       "      <td>373450</td>\n",
       "      <td>8.0500</td>\n",
       "      <td>NaN</td>\n",
       "      <td>S</td>\n",
       "    </tr>\n",
       "  </tbody>\n",
       "</table>\n",
       "</div>"
      ],
      "text/plain": [
       "             Survived  Pclass  \\\n",
       "PassengerId                     \n",
       "1                   0       3   \n",
       "2                   1       1   \n",
       "3                   1       3   \n",
       "4                   1       1   \n",
       "5                   0       3   \n",
       "\n",
       "                                                          Name     Sex   Age  \\\n",
       "PassengerId                                                                    \n",
       "1                                      Braund, Mr. Owen Harris    male  22.0   \n",
       "2            Cumings, Mrs. John Bradley (Florence Briggs Th...  female  38.0   \n",
       "3                                       Heikkinen, Miss. Laina  female  26.0   \n",
       "4                 Futrelle, Mrs. Jacques Heath (Lily May Peel)  female  35.0   \n",
       "5                                     Allen, Mr. William Henry    male  35.0   \n",
       "\n",
       "             SibSp  Parch            Ticket     Fare Cabin Embarked  \n",
       "PassengerId                                                          \n",
       "1                1      0         A/5 21171   7.2500   NaN        S  \n",
       "2                1      0          PC 17599  71.2833   C85        C  \n",
       "3                0      0  STON/O2. 3101282   7.9250   NaN        S  \n",
       "4                1      0            113803  53.1000  C123        S  \n",
       "5                0      0            373450   8.0500   NaN        S  "
      ]
     },
     "execution_count": 13,
     "metadata": {},
     "output_type": "execute_result"
    }
   ],
   "source": [
    "train.head()"
   ]
  },
  {
   "cell_type": "markdown",
   "id": "07cc1abe-872f-4720-877b-e160b243f3b9",
   "metadata": {},
   "source": [
    "- survived : 생존 1, 사망 0\n",
    "- pclass : 1, 2, 3등석\n",
    "- sibsp : siblings/spouses (형제, 배우자)\n",
    "- parch : parents/children(부모님, 자녀)\n",
    "- cabin: 선실 번호\n",
    "- embarked: 선착장"
   ]
  },
  {
   "cell_type": "code",
   "execution_count": 20,
   "id": "14c97690-4ec8-414a-9144-f41dde8a7cde",
   "metadata": {
    "collapsed": true,
    "jupyter": {
     "outputs_hidden": true
    }
   },
   "outputs": [
    {
     "name": "stdout",
     "output_type": "stream",
     "text": [
      "<class 'pandas.core.frame.DataFrame'>\n",
      "Index: 891 entries, 1 to 891\n",
      "Data columns (total 11 columns):\n",
      " #   Column    Non-Null Count  Dtype  \n",
      "---  ------    --------------  -----  \n",
      " 0   Survived  891 non-null    int64  \n",
      " 1   Pclass    891 non-null    int64  \n",
      " 2   Name      891 non-null    object \n",
      " 3   Sex       891 non-null    object \n",
      " 4   Age       714 non-null    float64\n",
      " 5   SibSp     891 non-null    int64  \n",
      " 6   Parch     891 non-null    int64  \n",
      " 7   Ticket    891 non-null    object \n",
      " 8   Fare      891 non-null    float64\n",
      " 9   Cabin     204 non-null    object \n",
      " 10  Embarked  889 non-null    object \n",
      "dtypes: float64(2), int64(4), object(5)\n",
      "memory usage: 83.5+ KB\n"
     ]
    }
   ],
   "source": [
    "train.info()"
   ]
  },
  {
   "cell_type": "markdown",
   "id": "aba6d35a-a37f-4c3c-a5a0-7ba3e0469b7b",
   "metadata": {},
   "source": [
    "### 척도\n",
    "#### 질적척도\n",
    "- 명목척도 : 관찰하는 대상의 속성에 따라 그 값을 숫자로 나타냄, 분류할 목적으로 숫자를 사용하고 숫자 자체가 가지고 있는 의미는 없음(남자:1, 여자:2)\n",
    "- 서열척도 : 관찰하는 대상의 특성을 측정해서 그 값을 순위로 나타내는 것 (성적 1등, 2등..) 높낮이는 알 수 있지만 차이의 정도는 알 수 없음\n",
    "#### 양적척도\n",
    "- 등간척도 : 관찰 대상의 속성을 상대적 크기로 나타냄, 순위를 부여할 뿐만 아니라 얼마나 차이가 나는지 의미가 있음(온도, 날짜) 계산이 가능함\n",
    "- 비율척도 : 절대적 기준이 있는 영점이 존재하고 모든 사칙연산이 가능(판매량, 점수, 키...)"
   ]
  },
  {
   "cell_type": "code",
   "execution_count": 26,
   "id": "9ea0fd97-5718-4ff0-a964-22e0dec42583",
   "metadata": {
    "collapsed": true,
    "jupyter": {
     "outputs_hidden": true
    }
   },
   "outputs": [
    {
     "data": {
      "text/plain": [
       "Survived      0\n",
       "Pclass        0\n",
       "Name          0\n",
       "Sex           0\n",
       "Age         177\n",
       "SibSp         0\n",
       "Parch         0\n",
       "Ticket        0\n",
       "Fare          0\n",
       "Cabin       687\n",
       "Embarked      2\n",
       "dtype: int64"
      ]
     },
     "execution_count": 26,
     "metadata": {},
     "output_type": "execute_result"
    }
   ],
   "source": [
    "# 결측치 체크 : 결측치는 이상값을 의미합니다. 평균적인 범주를 벗어난 값이나 null값..\n",
    "train.isnull().sum()"
   ]
  },
  {
   "cell_type": "code",
   "execution_count": 30,
   "id": "4b7640c6-74c2-4b7e-bd8a-52e44b5feb42",
   "metadata": {},
   "outputs": [
    {
     "data": {
      "text/plain": [
       "Sex\n",
       "female    27.915709\n",
       "male      30.726645\n",
       "Name: Age, dtype: float64"
      ]
     },
     "execution_count": 30,
     "metadata": {},
     "output_type": "execute_result"
    }
   ],
   "source": [
    "#성별 별 나이 평균.\n",
    "gender_mean = train.groupby('Sex')['Age'].mean()\n",
    "gender_mean"
   ]
  },
  {
   "cell_type": "markdown",
   "id": "099c35a8-6639-44a5-a7a2-19fb3e2b0574",
   "metadata": {},
   "source": [
    "- 결측치는 평균값, 중앙값, 선행값, 후행값, 그룹평균값 등 다양한 값으로 채울 수 있습니다."
   ]
  },
  {
   "cell_type": "code",
   "execution_count": 39,
   "id": "a1ff8cd6-a99e-4371-9f28-dd964d4ca5be",
   "metadata": {
    "collapsed": true,
    "jupyter": {
     "outputs_hidden": true
    }
   },
   "outputs": [
    {
     "name": "stderr",
     "output_type": "stream",
     "text": [
      "C:\\Users\\PC-13\\AppData\\Local\\Temp\\ipykernel_12628\\2685912016.py:2: FutureWarning: Series.__getitem__ treating keys as positions is deprecated. In a future version, integer keys will always be treated as labels (consistent with DataFrame behavior). To access a value by position, use `ser.iloc[pos]`\n",
      "  train.loc[(train['Sex'] == 'female') & (train['Age'].isnull()), 'Age'] = int(gender_mean[0])\n",
      "C:\\Users\\PC-13\\AppData\\Local\\Temp\\ipykernel_12628\\2685912016.py:3: FutureWarning: Series.__getitem__ treating keys as positions is deprecated. In a future version, integer keys will always be treated as labels (consistent with DataFrame behavior). To access a value by position, use `ser.iloc[pos]`\n",
      "  train.loc[(train['Sex'] == 'male') & (train['Age'].isnull()), 'Age'] = int(gender_mean[1])\n"
     ]
    },
    {
     "data": {
      "text/plain": [
       "Survived      0\n",
       "Pclass        0\n",
       "Name          0\n",
       "Sex           0\n",
       "Age           0\n",
       "SibSp         0\n",
       "Parch         0\n",
       "Ticket        0\n",
       "Fare          0\n",
       "Cabin       687\n",
       "Embarked      2\n",
       "dtype: int64"
      ]
     },
     "execution_count": 39,
     "metadata": {},
     "output_type": "execute_result"
    }
   ],
   "source": [
    "# 남자 평균, 여자 평균 나이로 채우기\n",
    "train.loc[(train['Sex'] == 'female') & (train['Age'].isnull()), 'Age'] = int(gender_mean[0])\n",
    "train.loc[(train['Sex'] == 'male') & (train['Age'].isnull()), 'Age'] = int(gender_mean[1])\n",
    "train.isnull().sum() #이제 나이에 결측치가 나오지 않습니다."
   ]
  },
  {
   "cell_type": "code",
   "execution_count": 41,
   "id": "bc11175f-fd38-4b81-b1c4-03ab3261085c",
   "metadata": {
    "collapsed": true,
    "jupyter": {
     "outputs_hidden": true
    }
   },
   "outputs": [
    {
     "data": {
      "text/plain": [
       "Cabin\n",
       "G6             4\n",
       "C23 C25 C27    4\n",
       "B96 B98        4\n",
       "F2             3\n",
       "D              3\n",
       "              ..\n",
       "E17            1\n",
       "A24            1\n",
       "C50            1\n",
       "B42            1\n",
       "C148           1\n",
       "Name: count, Length: 147, dtype: int64"
      ]
     },
     "execution_count": 41,
     "metadata": {},
     "output_type": "execute_result"
    }
   ],
   "source": [
    "train.Cabin.value_counts()"
   ]
  },
  {
   "cell_type": "code",
   "execution_count": 45,
   "id": "a299b368-52e3-4500-8479-57857f4a846e",
   "metadata": {
    "collapsed": true,
    "jupyter": {
     "outputs_hidden": true
    }
   },
   "outputs": [
    {
     "data": {
      "text/plain": [
       "Survived    0\n",
       "Pclass      0\n",
       "Name        0\n",
       "Sex         0\n",
       "Age         0\n",
       "SibSp       0\n",
       "Parch       0\n",
       "Ticket      0\n",
       "Fare        0\n",
       "Cabin       0\n",
       "Embarked    2\n",
       "dtype: int64"
      ]
     },
     "execution_count": 45,
     "metadata": {},
     "output_type": "execute_result"
    }
   ],
   "source": [
    "train['Cabin'] = train['Cabin'].fillna('N')\n",
    "train.isnull().sum() #Cabin이 모두 'N'으로 채워지며 결측치가 없어집니다."
   ]
  },
  {
   "cell_type": "code",
   "execution_count": 47,
   "id": "5e1788a8-0819-40ae-a6aa-ba4700ff5527",
   "metadata": {
    "collapsed": true,
    "jupyter": {
     "outputs_hidden": true
    }
   },
   "outputs": [
    {
     "data": {
      "text/plain": [
       "Survived    0\n",
       "Pclass      0\n",
       "Name        0\n",
       "Sex         0\n",
       "Age         0\n",
       "SibSp       0\n",
       "Parch       0\n",
       "Ticket      0\n",
       "Fare        0\n",
       "Cabin       0\n",
       "Embarked    0\n",
       "dtype: int64"
      ]
     },
     "execution_count": 47,
     "metadata": {},
     "output_type": "execute_result"
    }
   ],
   "source": [
    "train = train.dropna() #결측치 포함된 행 자체를 제거합니다.\n",
    "train.isnull().sum()"
   ]
  },
  {
   "cell_type": "code",
   "execution_count": 49,
   "id": "61de9460-2df1-420b-afe6-4ea559afb92e",
   "metadata": {},
   "outputs": [
    {
     "data": {
      "text/plain": [
       "Survived\n",
       "0    549\n",
       "1    340\n",
       "Name: count, dtype: int64"
      ]
     },
     "execution_count": 49,
     "metadata": {},
     "output_type": "execute_result"
    }
   ],
   "source": [
    "### 생존자, 사망자 인원 수 출력\n",
    "train['Survived'].value_counts()"
   ]
  },
  {
   "cell_type": "code",
   "execution_count": 51,
   "id": "f0cef2a8-91ba-4898-8aab-6f87684d2e6b",
   "metadata": {},
   "outputs": [
    {
     "data": {
      "text/plain": [
       "Survived_label\n",
       "Dead        549\n",
       "Survived    340\n",
       "Name: count, dtype: int64"
      ]
     },
     "execution_count": 51,
     "metadata": {},
     "output_type": "execute_result"
    }
   ],
   "source": [
    "# 가시성을 위해 라벨 컬럼 생성\n",
    "train['Survived_label'] = train['Survived'].replace(0, 'Dead').replace(1, 'Survived')\n",
    "train['Survived_label'].value_counts()"
   ]
  },
  {
   "cell_type": "code",
   "execution_count": 59,
   "id": "61344d9e-3871-49e0-832b-2687b9de61ac",
   "metadata": {
    "collapsed": true,
    "jupyter": {
     "outputs_hidden": true
    }
   },
   "outputs": [
    {
     "data": {
      "text/plain": [
       "<Axes: xlabel='Survived_label'>"
      ]
     },
     "execution_count": 59,
     "metadata": {},
     "output_type": "execute_result"
    },
    {
     "data": {
      "image/png": "[encoded data removed]",
      "text/plain": [
       "<Figure size 640x480 with 1 Axes>"
      ]
     },
     "metadata": {},
     "output_type": "display_data"
    }
   ],
   "source": [
    "# 그래프 시각화\n",
    "train['Survived_label'].value_counts().plot(kind='bar', rot='vertical')"
   ]
  },
  {
   "cell_type": "code",
   "execution_count": 75,
   "id": "f4380ac1-ff95-4d39-8453-942632020f44",
   "metadata": {
    "collapsed": true,
    "jupyter": {
     "outputs_hidden": true
    }
   },
   "outputs": [
    {
     "data": {
      "text/plain": [
       "<Axes: ylabel='count'>"
      ]
     },
     "execution_count": 75,
     "metadata": {},
     "output_type": "execute_result"
    },
    {
     "data": {
      "image/png": "[encoded data removed]",
      "text/plain": [
       "<Figure size 640x480 with 1 Axes>"
      ]
     },
     "metadata": {},
     "output_type": "display_data"
    }
   ],
   "source": [
    "train['Survived_label'].value_counts().plot(kind='pie', autopct='%1.2f%%')\n",
    "# autopct: 수치 소수점 자리 수 정하기"
   ]
  },
  {
   "cell_type": "code",
   "execution_count": 77,
   "id": "f0b5929a-f8ef-4edf-b280-62cc8514e0c9",
   "metadata": {
    "collapsed": true,
    "jupyter": {
     "outputs_hidden": true
    }
   },
   "outputs": [
    {
     "data": {
      "text/plain": [
       "<Axes: ylabel='count'>"
      ]
     },
     "execution_count": 77,
     "metadata": {},
     "output_type": "execute_result"
    },
    {
     "data": {
      "image/png": "[encoded data removed]",
      "text/plain": [
       "<Figure size 640x480 with 1 Axes>"
      ]
     },
     "metadata": {},
     "output_type": "display_data"
    }
   ],
   "source": [
    "# 객실 시각화\n",
    "train['Pclass_label'] = train['Pclass'].replace(1, 'First Class').replace(2, 'Business').replace(3, 'Economy')\n",
    "train['Pclass_label'].value_counts().plot(kind='pie', autopct='%1.2f%%')"
   ]
  },
  {
   "cell_type": "code",
   "execution_count": 83,
   "id": "35fa188d-ef63-4944-985f-0ee711619275",
   "metadata": {
    "collapsed": true,
    "jupyter": {
     "outputs_hidden": true
    }
   },
   "outputs": [
    {
     "data": {
      "text/plain": [
       "<Axes: xlabel='Pclass_label', ylabel='count'>"
      ]
     },
     "execution_count": 83,
     "metadata": {},
     "output_type": "execute_result"
    },
    {
     "data": {
      "image/png": "[encoded data removed]",
      "text/plain": [
       "<Figure size 640x480 with 1 Axes>"
      ]
     },
     "metadata": {},
     "output_type": "display_data"
    }
   ],
   "source": [
    "#객식 별 생존 여부 시각화\n",
    "sns.countplot(data=train, x=\"Pclass_label\", hue=\"Survived_label\")"
   ]
  },
  {
   "cell_type": "code",
   "execution_count": 85,
   "id": "51fa17fe-aa80-4f89-bf55-e4a251ce0ea8",
   "metadata": {
    "collapsed": true,
    "jupyter": {
     "outputs_hidden": true
    }
   },
   "outputs": [
    {
     "data": {
      "text/plain": [
       "<Axes: xlabel='Sex', ylabel='count'>"
      ]
     },
     "execution_count": 85,
     "metadata": {},
     "output_type": "execute_result"
    },
    {
     "data": {
      "image/png": "[encoded data removed]",
      "text/plain": [
       "<Figure size 640x480 with 1 Axes>"
      ]
     },
     "metadata": {},
     "output_type": "display_data"
    }
   ],
   "source": [
    "# 성별 생존 여부\n",
    "sns.countplot(data=train, x=\"Sex\", hue=\"Survived_label\")"
   ]
  },
  {
   "cell_type": "code",
   "execution_count": 97,
   "id": "24aeb6bd-a45f-457f-a55c-c062465f277a",
   "metadata": {},
   "outputs": [
    {
     "data": {
      "text/plain": [
       "<seaborn.axisgrid.FacetGrid at 0x1619ee6e820>"
      ]
     },
     "execution_count": 97,
     "metadata": {},
     "output_type": "execute_result"
    },
    {
     "data": {
      "image/png": "[encoded data removed]",
      "text/plain": [
       "<Figure size 1012.86x300 with 1 Axes>"
      ]
     },
     "metadata": {},
     "output_type": "display_data"
    }
   ],
   "source": [
    "# 나이 별 생존 여부\n",
    "f = sns.FacetGrid(train, hue=\"Survived_label\", aspect=3)\n",
    "f.map(sns.kdeplot, 'Age', fill=True)\n",
    "f.set(xlim=(0, train['Age'].max()))\n",
    "f.add_legend()"
   ]
  },
  {
   "cell_type": "code",
   "execution_count": null,
   "id": "2e988c4f-0bc6-4b23-b14f-e911f6983eb7",
   "metadata": {},
   "outputs": [],
   "source": []
  }
 ],
 "metadata": {
  "kernelspec": {
   "display_name": "tech7",
   "language": "python",
   "name": "tech7"
  },
  "language_info": {
   "codemirror_mode": {
    "name": "ipython",
    "version": 3
   },
   "file_extension": ".py",
   "mimetype": "text/x-python",
   "name": "python",
   "nbconvert_exporter": "python",
   "pygments_lexer": "ipython3",
   "version": "3.9.19"
  }
 },
 "nbformat": 4,
 "nbformat_minor": 5
}
