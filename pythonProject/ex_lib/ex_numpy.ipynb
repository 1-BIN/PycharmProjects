{
 "cells": [
  {
   "cell_type": "markdown",
   "id": "dc429f04-0c27-470f-855f-738dc8e9226d",
   "metadata": {},
   "source": [
    "#### numpy: 다차원 연산 및 수치연산을 지원함\n",
    "#### 많은 딥러닝 관련 라이브러리에서 기본 데이터 형태로 사용\n",
    "#### 별칭으로 보통 np"
   ]
  },
  {
   "cell_type": "code",
   "execution_count": 15,
   "id": "a8b45283-4fbf-4a51-838c-9eb13e100f75",
   "metadata": {},
   "outputs": [
    {
     "name": "stdout",
     "output_type": "stream",
     "text": [
      "일반 배열 [1, 2, 3]\n",
      "ndarray [1 2 3]\n"
     ]
    }
   ],
   "source": [
    "import numpy as np\n",
    "\n",
    "python_arr = [1,2,3]\n",
    "np_arr1 = np.array(python_arr)\n",
    "print('일반 배열', python_arr)\n",
    "print('ndarray', np_arr1)"
   ]
  },
  {
   "cell_type": "code",
   "execution_count": 21,
   "id": "3e5e9817-13db-4059-8cf8-22979e0c3945",
   "metadata": {},
   "outputs": [
    {
     "name": "stdout",
     "output_type": "stream",
     "text": [
      "ndim1 <class 'numpy.ndarray'> (3,) 1\n",
      "ndim2 <class 'numpy.ndarray'> (2, 3) 2\n",
      "ndim3 <class 'numpy.ndarray'> (2, 2, 3) 3\n"
     ]
    }
   ],
   "source": [
    "np_arr2 = np.array([[1,2,3], [2,3,4]])\n",
    "np_arr3 = np.array([[[1,2,3],[4,5,6]],[[7,8,9],[10,11,12]]])\n",
    "print('ndim1', type(np_arr1), np_arr1.shape, np_arr1.ndim) #dim: dimension 몇차원 배열인지 반환\n",
    "print('ndim2', type(np_arr2), np_arr2.shape, np_arr2.ndim) #shape: 배열의 모양. 배열이 2개, 원소 3개\n",
    "print('ndim3', type(np_arr3), np_arr3.shape, np_arr3.ndim) # 배열이 크게 2개, 그 안에 또 2개, 원소 3개"
   ]
  },
  {
   "cell_type": "code",
   "execution_count": 49,
   "id": "d51587ca-62fe-4e01-b0ef-b5b9b9e2790c",
   "metadata": {},
   "outputs": [
    {
     "name": "stdout",
     "output_type": "stream",
     "text": [
      "3\n",
      "[[2 3]\n",
      " [3 4]]\n"
     ]
    }
   ],
   "source": [
    "print(np_arr2[0,2])    #1번째 행의 3번째 요소\n",
    "print(np_arr2[:,1:3])   # 모든 행, 두번째와 세번째 열"
   ]
  },
  {
   "cell_type": "code",
   "execution_count": 57,
   "id": "f1ae7f40-cd21-4541-9782-296a1479aebc",
   "metadata": {
    "collapsed": true,
    "jupyter": {
     "outputs_hidden": true
    }
   },
   "outputs": [
    {
     "name": "stdout",
     "output_type": "stream",
     "text": [
      "[2 4 6]\n",
      "[1 4 9]\n",
      "15\n",
      "2.5\n",
      "[[1 2 3]\n",
      " [2 3 4]]\n",
      "열: [3 5 7]\n",
      "행: [6 9]\n"
     ]
    }
   ],
   "source": [
    "print(np_arr1 + np_arr1) # 요소별 합\n",
    "print(np_arr1 * np_arr1) # 요소별 곱\n",
    "print(np.sum(np_arr2))   # 합\n",
    "print(np.mean(np_arr2))  # 평균\n",
    "#axis 축: 0 열 방향, 1 행 방향 \n",
    "#0에서 숫자가 높아질수록, 가장 큰 덩어리에서 원소까지 가는 것.\n",
    "print(np_arr2)\n",
    "print('열:', np_arr2.sum(axis=0))\n",
    "print('행:', np_arr2.sum(axis=1))"
   ]
  },
  {
   "cell_type": "code",
   "execution_count": 71,
   "id": "8da158f9-93b6-4aa6-ab7f-60a6669e97d0",
   "metadata": {
    "collapsed": true,
    "jupyter": {
     "outputs_hidden": true
    }
   },
   "outputs": [
    {
     "name": "stdout",
     "output_type": "stream",
     "text": [
      "[1 2 3 4 5 6 7 8 9]\n",
      "[[1 2 3]\n",
      " [4 5 6]\n",
      " [7 8 9]]\n",
      "(3, 3)\n"
     ]
    }
   ],
   "source": [
    "# 1차원 배열 생성\n",
    "arr = np.arange(1,10)  # 1~9\n",
    "print(arr)\n",
    "# 리쉐입 3x3\n",
    "print(arr.reshape(3,3))\n",
    "print(arr.reshape(3,3).shape)"
   ]
  },
  {
   "cell_type": "code",
   "execution_count": 73,
   "id": "9d85d57b-2920-4517-9165-327e3ff43669",
   "metadata": {},
   "outputs": [
    {
     "name": "stdout",
     "output_type": "stream",
     "text": [
      "285\n"
     ]
    }
   ],
   "source": [
    "# dot product ( 두 벡터의 대응하는 요소를 곱한 후 그 결과를 모두 더하는 연산)\n",
    "print(np.dot(arr, arr))"
   ]
  },
  {
   "cell_type": "code",
   "execution_count": 77,
   "id": "2610cfa5-adbd-475a-91b1-a9d5b5f747d6",
   "metadata": {},
   "outputs": [
    {
     "name": "stdout",
     "output_type": "stream",
     "text": [
      "[[1 2 3]\n",
      " [4 5 6]\n",
      " [7 8 9]]\n",
      "[[1 4 7]\n",
      " [2 5 8]\n",
      " [3 6 9]]\n"
     ]
    }
   ],
   "source": [
    "arr2 = np.array([[1,2,3],[4,5,6],[7,8,9]])\n",
    "print(arr2)\n",
    "# 전치 (행과 열을 서로 바꿉니다)\n",
    "print(arr2.transpose())"
   ]
  },
  {
   "cell_type": "code",
   "execution_count": null,
   "id": "11db64f0-28a1-4148-8da6-1de5511c8f10",
   "metadata": {},
   "outputs": [],
   "source": []
  }
 ],
 "metadata": {
  "kernelspec": {
   "display_name": "tech7",
   "language": "python",
   "name": "tech7"
  },
  "language_info": {
   "codemirror_mode": {
    "name": "ipython",
    "version": 3
   },
   "file_extension": ".py",
   "mimetype": "text/x-python",
   "name": "python",
   "nbconvert_exporter": "python",
   "pygments_lexer": "ipython3",
   "version": "3.9.19"
  }
 },
 "nbformat": 4,
 "nbformat_minor": 5
}
