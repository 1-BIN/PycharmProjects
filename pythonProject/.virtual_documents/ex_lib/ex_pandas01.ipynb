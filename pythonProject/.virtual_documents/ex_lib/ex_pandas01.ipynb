


pip install pandas


import pandas as pd





data = {"name":["bami","orae","juni"],
        "age":[1,5,9]}
data
df = pd.DataFrame(data)
df





df['age_plus'] = df['age'] + 1
df['age_squared'] = df['age'] * df['age']
df





df2 = pd.DataFrame({"name" : ["bami", "orae", "juni"]
                   ,"height" : ["45", "50", "82"]
                   ,"gender" : ["F", "F", "M"]})
joined = df.set_index("name").join(df2.set_index("name"))
joined





df_mean = joined.groupby("gender").mean()
df_mean








!pip install -U finance-datareader
!pip install matplotlib
!pip install plotly


import FinanceDataReader as fdr
import matplotlib.pyplot as plt


AAPL = fdr.DataReader("AAPL") #NASDAQ 애플 종목코드 AAPL
AAPL['Close'].plot() #Close 종가
plt.show()


AAPL.head() #상위 5개


AAPL.tail() #하위 5개


AAPL.info() #요약정보(컬럼명, 데이터 건 수, null값 유무, 타입 등 조회 가능)


AAPL.describe() #기초 통계량


SAMSUNG = fdr.DataReader("005930")
SAMSUNG.head()
SAMSUNG['Close'].plot()
plt.show()


TSLA_2024 = fdr.DataReader("TSLA","2024") #년도
TSLA_2024.head()
TSLA_2024['Close'].plot()
plt.show()


TSLA_2017 = fdr.DataReader("TSLA","2017-01-01", "2024-09-27") #년월일
TSLA_2017.head()
TSLA_2017['Close'].plot()
plt.show()


TSLA_2017.head(10) #내용물 갯수대로 출력 가능


df_krw = fdr.StockListing("KRX")
df_krw.head()


for idx, row in df_krw.iterrows(): #dataframe 순회하기
    print(idx,row['Name'], row['Code'])


!pip install openpyxl


#파일 저장
with pd.ExcelWriter("KRW.xlsx", engine="openpyxl") as writer:
    df_krw.to_excel(writer, sheet_name="sheet1")


#파일 로드
load_krw = pd.read_excel("KRW.xlsx", engine="openpyxl")
load_krw





load_krw.iloc[0]


load_krw.iloc[:,1]


load_krw.loc[0, 'Name']


load_krw.loc[0:4, 'Code':'Name']





volume = load_krw.loc[load_krw['Volume'] > 30000000] #volume: 거래량 column
volume.info()


close_max = load_krw['Close'].max()
close_max


load_krw.loc[load_krw['Close'] == 977000]


load_krw = load_krw.sort_values('Close', ascending=False)
#load_krw
load_krw.head(10) #정렬하여 출력



